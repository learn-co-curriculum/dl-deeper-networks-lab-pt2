{
 "cells": [
  {
   "cell_type": "markdown",
   "metadata": {},
   "source": [
    "# Introduction to Keras"
   ]
  },
  {
   "cell_type": "markdown",
   "metadata": {},
   "source": [
    "## 1. Classifying bank complaints"
   ]
  },
  {
   "cell_type": "markdown",
   "metadata": {},
   "source": [
    "### 1.1 Loading the data"
   ]
  },
  {
   "cell_type": "markdown",
   "metadata": {},
   "source": [
    "#### 1.1.1 Look at the data"
   ]
  },
  {
   "cell_type": "code",
   "execution_count": 1,
   "metadata": {},
   "outputs": [
    {
     "name": "stderr",
     "output_type": "stream",
     "text": [
      "/anaconda3/lib/python3.6/site-packages/h5py/__init__.py:36: FutureWarning: Conversion of the second argument of issubdtype from `float` to `np.floating` is deprecated. In future, it will be treated as `np.float64 == np.dtype(float).type`.\n",
      "  from ._conv import register_converters as _register_converters\n",
      "Using TensorFlow backend.\n"
     ]
    },
    {
     "data": {
      "text/html": [
       "<div>\n",
       "<style scoped>\n",
       "    .dataframe tbody tr th:only-of-type {\n",
       "        vertical-align: middle;\n",
       "    }\n",
       "\n",
       "    .dataframe tbody tr th {\n",
       "        vertical-align: top;\n",
       "    }\n",
       "\n",
       "    .dataframe thead th {\n",
       "        text-align: right;\n",
       "    }\n",
       "</style>\n",
       "<table border=\"1\" class=\"dataframe\">\n",
       "  <thead>\n",
       "    <tr style=\"text-align: right;\">\n",
       "      <th></th>\n",
       "      <th>Product</th>\n",
       "      <th>Consumer complaint narrative</th>\n",
       "    </tr>\n",
       "  </thead>\n",
       "  <tbody>\n",
       "    <tr>\n",
       "      <th>0</th>\n",
       "      <td>Student loan</td>\n",
       "      <td>In XX/XX/XXXX I filled out the Fedlaon applica...</td>\n",
       "    </tr>\n",
       "    <tr>\n",
       "      <th>1</th>\n",
       "      <td>Student loan</td>\n",
       "      <td>I am being contacted by a debt collector for p...</td>\n",
       "    </tr>\n",
       "    <tr>\n",
       "      <th>2</th>\n",
       "      <td>Student loan</td>\n",
       "      <td>I cosigned XXXX student loans at SallieMae for...</td>\n",
       "    </tr>\n",
       "    <tr>\n",
       "      <th>3</th>\n",
       "      <td>Student loan</td>\n",
       "      <td>Navient has sytematically and illegally failed...</td>\n",
       "    </tr>\n",
       "    <tr>\n",
       "      <th>4</th>\n",
       "      <td>Student loan</td>\n",
       "      <td>My wife became eligible for XXXX Loan Forgiven...</td>\n",
       "    </tr>\n",
       "  </tbody>\n",
       "</table>\n",
       "</div>"
      ],
      "text/plain": [
       "        Product                       Consumer complaint narrative\n",
       "0  Student loan  In XX/XX/XXXX I filled out the Fedlaon applica...\n",
       "1  Student loan  I am being contacted by a debt collector for p...\n",
       "2  Student loan  I cosigned XXXX student loans at SallieMae for...\n",
       "3  Student loan  Navient has sytematically and illegally failed...\n",
       "4  Student loan  My wife became eligible for XXXX Loan Forgiven..."
      ]
     },
     "execution_count": 1,
     "metadata": {},
     "output_type": "execute_result"
    }
   ],
   "source": [
    "import matplotlib.pyplot as plt\n",
    "import pandas as pd\n",
    "import numpy as np\n",
    "from sklearn.model_selection import train_test_split\n",
    "from keras.utils.np_utils import to_categorical\n",
    "from sklearn import preprocessing\n",
    "from keras.preprocessing.text import Tokenizer\n",
    "\n",
    "df = pd.read_csv('Bank_complaints.csv')\n",
    "df.head()"
   ]
  },
  {
   "cell_type": "code",
   "execution_count": 2,
   "metadata": {},
   "outputs": [],
   "source": [
    "df = df.sample(10000)"
   ]
  },
  {
   "cell_type": "code",
   "execution_count": 3,
   "metadata": {},
   "outputs": [],
   "source": [
    "df.index = range(10000)"
   ]
  },
  {
   "cell_type": "code",
   "execution_count": 4,
   "metadata": {},
   "outputs": [],
   "source": [
    "product = df[\"Product\"]"
   ]
  },
  {
   "cell_type": "markdown",
   "metadata": {},
   "source": [
    "There are 7 types of complaints"
   ]
  },
  {
   "cell_type": "code",
   "execution_count": 5,
   "metadata": {},
   "outputs": [
    {
     "data": {
      "text/plain": [
       "Student loan                   1923\n",
       "Consumer Loan                  1581\n",
       "Credit card                    1548\n",
       "Bank account or service        1438\n",
       "Mortgage                       1399\n",
       "Credit reporting               1115\n",
       "Checking or savings account     996\n",
       "Name: Product, dtype: int64"
      ]
     },
     "execution_count": 5,
     "metadata": {},
     "output_type": "execute_result"
    }
   ],
   "source": [
    "product.value_counts()"
   ]
  },
  {
   "cell_type": "code",
   "execution_count": 6,
   "metadata": {},
   "outputs": [
    {
     "name": "stdout",
     "output_type": "stream",
     "text": [
      "<class 'pandas.core.frame.DataFrame'>\n",
      "RangeIndex: 10000 entries, 0 to 9999\n",
      "Data columns (total 2 columns):\n",
      "Product                         10000 non-null object\n",
      "Consumer complaint narrative    10000 non-null object\n",
      "dtypes: object(2)\n",
      "memory usage: 156.3+ KB\n"
     ]
    }
   ],
   "source": [
    "df.info()"
   ]
  },
  {
   "cell_type": "code",
   "execution_count": 7,
   "metadata": {},
   "outputs": [],
   "source": [
    "complaints = df[\"Consumer complaint narrative\"]"
   ]
  },
  {
   "cell_type": "markdown",
   "metadata": {},
   "source": [
    "### 1.1.2 One-hot encoding of the complaints"
   ]
  },
  {
   "cell_type": "markdown",
   "metadata": {},
   "source": [
    "Only keep 2,000 most common words and use one-hot encoding"
   ]
  },
  {
   "cell_type": "code",
   "execution_count": 8,
   "metadata": {},
   "outputs": [],
   "source": [
    "tokenizer = Tokenizer(num_words=2000)"
   ]
  },
  {
   "cell_type": "code",
   "execution_count": 9,
   "metadata": {},
   "outputs": [],
   "source": [
    "tokenizer.fit_on_texts(complaints)"
   ]
  },
  {
   "cell_type": "code",
   "execution_count": 10,
   "metadata": {},
   "outputs": [],
   "source": [
    "sequences = tokenizer.texts_to_sequences(complaints)"
   ]
  },
  {
   "cell_type": "code",
   "execution_count": 11,
   "metadata": {},
   "outputs": [
    {
     "name": "stdout",
     "output_type": "stream",
     "text": [
      "Found 21365 unique tokens.\n"
     ]
    }
   ],
   "source": [
    "one_hot_results= tokenizer.texts_to_matrix(complaints, mode='binary')\n",
    "\n",
    "word_index = tokenizer.word_index\n",
    "\n",
    "print('Found %s unique tokens.' % len(word_index))"
   ]
  },
  {
   "cell_type": "code",
   "execution_count": 12,
   "metadata": {},
   "outputs": [],
   "source": [
    "#word_index.items()"
   ]
  },
  {
   "cell_type": "code",
   "execution_count": 13,
   "metadata": {},
   "outputs": [
    {
     "data": {
      "text/plain": [
       "(10000, 2000)"
      ]
     },
     "execution_count": 13,
     "metadata": {},
     "output_type": "execute_result"
    }
   ],
   "source": [
    "np.shape(one_hot_results)"
   ]
  },
  {
   "cell_type": "markdown",
   "metadata": {},
   "source": [
    "Decode the review again, can be done as follows:"
   ]
  },
  {
   "cell_type": "markdown",
   "metadata": {},
   "source": [
    "word_index stores the mapping from the label number to the actual word."
   ]
  },
  {
   "cell_type": "code",
   "execution_count": 14,
   "metadata": {},
   "outputs": [],
   "source": [
    "reverse_index = dict([(value, key) for (key, value) in word_index.items()])\n",
    "decoded_review = ' '.join([reverse_index.get(i) for i in sequences[19]])"
   ]
  },
  {
   "cell_type": "code",
   "execution_count": 15,
   "metadata": {},
   "outputs": [
    {
     "data": {
      "text/plain": [
       "\"where do i begin with my complaint i started attending xxxx xxxx xxxx in xxxx xxxx i began attending the school when i was xxxx xxxx xxxx i was able to do this prior to xxxx xxxx xxxx per the advice of xxxx xxxx who was helping me with the loan process on xxxx xxxx xxxx i to return to complete loan documents after my but the finance rep xxxx insisted i complete the loan process that day i was advised that i could change my date of birth to xxxx to make myself and apply for the loans on my own since my parents were unwilling to assume a loan under their names credit i was under the age of xxxx when i signed for all school documents i was taken advantage of and i have been dealing with these loans since then i did not find work in the field i attended school for due to the fact that i could not and pay these loans back with the minimum jobs available to me in the field i recently went to the school to pick up loan document i had to because the is now closed copies but was only provided with paperwork which does n't include loan application details i have tried to take responsibility for this debt but have come to the that i need to speak out i have given this information to different reps which answer at the loan companies i have contacted but could not afford to i know the school has been in the past for their business practices they have lost paid out thousands upon thousands in damages to the i am unfortunately one of the ones that is still with the burden of debt the answers i have received from account reps are well you lied so too bad you still owe this money i was not of age of consent and was taken advantage of by people that were to sell a loan the amount of stress and worry which has not only my credit but life i do not wish on anyone it is so unfair and wrong\""
      ]
     },
     "execution_count": 15,
     "metadata": {},
     "output_type": "execute_result"
    }
   ],
   "source": [
    "decoded_review"
   ]
  },
  {
   "cell_type": "code",
   "execution_count": 16,
   "metadata": {},
   "outputs": [
    {
     "data": {
      "text/plain": [
       "\"Where do I begin with my complaint? I started attending XXXX XXXX XXXX in XXXX XXXX, I began attending the school when I was XXXX XXXX XXXX. I was able to do this prior to turning XXXX XXXX XXXX per the advice of XXXX XXXX who was helping me with the loan process on XXXX/XXXX/XXXX. I planned to return to complete loan documents after my birthday but the finance rep XXXX insisted I complete the loan process that day. I was advised that I could change my date of birth to XXXX to make myself older and apply for the loans on my own since my parents were unwilling to assume a loan under their names/credit. I was under the age of XXXX when I signed for all school documents. I was taken advantage of and manipulated. I have been dealing with these insurmountable loans since then. I did not find work in the field I attended school for ; due to the fact that I could not survive and pay these loans back with the minimum wage jobs available to me in the culinary field. I recently went to the school to pick up loan document ( I had to hurry because the campus is now closed ) copies but was only provided with enrollment paperwork ( which does n't include loan application details ). I have tried to take responsibility for this debt but have come to the conclusion that I need to speak out. I have given this information to different reps which answer phones at the loan companies. I have contacted lawyers but could not afford to hire onXXXX. I know the school has been sued in the past for their shady business practices. They have lost lawsuits paid out thousands upon thousands in damages to the victims. I am unfortunately one of the ones that is still suffering with the burden of debt. The answers I have received from account reps are well you lied so too bad you still owe this money. I was not of age of consent and was taken advantage of by people that were desperate to sell a loan. The amount of stress and worry which has effected not only my credit but life ; I do not wish on anyone. It is so unfair and wrong.\""
      ]
     },
     "execution_count": 16,
     "metadata": {},
     "output_type": "execute_result"
    }
   ],
   "source": [
    "complaints[19]"
   ]
  },
  {
   "cell_type": "markdown",
   "metadata": {},
   "source": [
    "You can see that some words dropped, but hopefully we caught the ones that have the useful distincive characteristics!"
   ]
  },
  {
   "cell_type": "markdown",
   "metadata": {},
   "source": [
    "### 1.1.3 convert the products to numerical categories"
   ]
  },
  {
   "cell_type": "code",
   "execution_count": 17,
   "metadata": {},
   "outputs": [],
   "source": [
    "le = preprocessing.LabelEncoder()"
   ]
  },
  {
   "cell_type": "code",
   "execution_count": 18,
   "metadata": {},
   "outputs": [
    {
     "data": {
      "text/plain": [
       "LabelEncoder()"
      ]
     },
     "execution_count": 18,
     "metadata": {},
     "output_type": "execute_result"
    }
   ],
   "source": [
    "le.fit(product)"
   ]
  },
  {
   "cell_type": "code",
   "execution_count": 19,
   "metadata": {},
   "outputs": [
    {
     "data": {
      "text/plain": [
       "['Bank account or service',\n",
       " 'Checking or savings account',\n",
       " 'Consumer Loan',\n",
       " 'Credit card',\n",
       " 'Credit reporting',\n",
       " 'Mortgage',\n",
       " 'Student loan']"
      ]
     },
     "execution_count": 19,
     "metadata": {},
     "output_type": "execute_result"
    }
   ],
   "source": [
    "list(le.classes_)"
   ]
  },
  {
   "cell_type": "code",
   "execution_count": 20,
   "metadata": {},
   "outputs": [],
   "source": [
    "product_cat = le.transform(product) "
   ]
  },
  {
   "cell_type": "code",
   "execution_count": 21,
   "metadata": {},
   "outputs": [
    {
     "name": "stderr",
     "output_type": "stream",
     "text": [
      "/anaconda3/lib/python3.6/site-packages/sklearn/preprocessing/label.py:151: DeprecationWarning: The truth value of an empty array is ambiguous. Returning False, but in future this will result in an error. Use `array.size > 0` to check that an array is not empty.\n",
      "  if diff:\n"
     ]
    },
    {
     "data": {
      "text/plain": [
       "['Bank account or service',\n",
       " 'Checking or savings account',\n",
       " 'Credit card',\n",
       " 'Credit card',\n",
       " 'Bank account or service',\n",
       " 'Student loan',\n",
       " 'Credit reporting']"
      ]
     },
     "execution_count": 21,
     "metadata": {},
     "output_type": "execute_result"
    }
   ],
   "source": [
    "list(le.inverse_transform([0, 1, 3, 3, 0, 6, 4]))"
   ]
  },
  {
   "cell_type": "code",
   "execution_count": 22,
   "metadata": {},
   "outputs": [
    {
     "data": {
      "text/plain": [
       "array([0, 1, 3, ..., 2, 2, 4])"
      ]
     },
     "execution_count": 22,
     "metadata": {},
     "output_type": "execute_result"
    }
   ],
   "source": [
    "product_cat"
   ]
  },
  {
   "cell_type": "code",
   "execution_count": 23,
   "metadata": {},
   "outputs": [],
   "source": [
    "product_onehot = to_categorical(product_cat)"
   ]
  },
  {
   "cell_type": "code",
   "execution_count": 24,
   "metadata": {},
   "outputs": [
    {
     "data": {
      "text/plain": [
       "(10000, 7)"
      ]
     },
     "execution_count": 24,
     "metadata": {},
     "output_type": "execute_result"
    }
   ],
   "source": [
    "np.shape(product_onehot)"
   ]
  },
  {
   "cell_type": "markdown",
   "metadata": {},
   "source": [
    "### 1.1.4 Train - test split"
   ]
  },
  {
   "cell_type": "code",
   "execution_count": 25,
   "metadata": {},
   "outputs": [],
   "source": [
    "import random\n",
    "random.seed(123)\n",
    "test_index = random.sample(range(1,10000), 1500)"
   ]
  },
  {
   "cell_type": "markdown",
   "metadata": {},
   "source": [
    "Create a test and a training set"
   ]
  },
  {
   "cell_type": "code",
   "execution_count": 26,
   "metadata": {},
   "outputs": [],
   "source": [
    "test = one_hot_results[test_index]\n",
    "train = np.delete(one_hot_results, test_index, 0)"
   ]
  },
  {
   "cell_type": "code",
   "execution_count": 27,
   "metadata": {},
   "outputs": [],
   "source": [
    "label_test = product_onehot[test_index]\n",
    "label_train = np.delete(product_onehot, test_index, 0)"
   ]
  },
  {
   "cell_type": "code",
   "execution_count": 28,
   "metadata": {},
   "outputs": [
    {
     "name": "stdout",
     "output_type": "stream",
     "text": [
      "(1500, 7)\n",
      "(8500, 7)\n",
      "(1500, 2000)\n",
      "(8500, 2000)\n"
     ]
    }
   ],
   "source": [
    "print(np.shape(label_test))\n",
    "print(np.shape(label_train))\n",
    "print(np.shape(test))\n",
    "print(np.shape(train))"
   ]
  },
  {
   "cell_type": "markdown",
   "metadata": {},
   "source": [
    "# 1.2 Building the network"
   ]
  },
  {
   "cell_type": "markdown",
   "metadata": {},
   "source": [
    "Let's build a fully connected (Dense) layer network with relu activations in Keras. You can do this using: `Dense(16, activation='relu')`."
   ]
  },
  {
   "cell_type": "markdown",
   "metadata": {},
   "source": [
    "In this examples, use 2 hidden with 50 units in the first layer and 25 in the second, both with a `relu` activation function. Because we are dealing with a multiclass problem (classifying the complaints into 7 ), we use a use a softmax classifyer in order to output 7 class probabilities per case."
   ]
  },
  {
   "cell_type": "code",
   "execution_count": 29,
   "metadata": {},
   "outputs": [],
   "source": [
    "from keras import models\n",
    "from keras import layers\n",
    "model = models.Sequential()\n",
    "model.add(layers.Dense(50, activation='relu', input_shape=(2000,))) #2 hidden layers\n",
    "model.add(layers.Dense(25, activation='relu'))\n",
    "model.add(layers.Dense(7, activation='softmax'))"
   ]
  },
  {
   "cell_type": "markdown",
   "metadata": {},
   "source": [
    "### 1.3 Validating the approach"
   ]
  },
  {
   "cell_type": "markdown",
   "metadata": {},
   "source": [
    "create a validation set with 1,000 samples from the original train data set"
   ]
  },
  {
   "cell_type": "code",
   "execution_count": 30,
   "metadata": {},
   "outputs": [],
   "source": [
    "val = train[:1000]\n",
    "train_final = train[1000:]\n",
    "label_val = label_train[:1000]\n",
    "label_train_final = label_train[1000:]"
   ]
  },
  {
   "cell_type": "markdown",
   "metadata": {},
   "source": [
    "### 1.4 Compiling the model and look at the results"
   ]
  },
  {
   "cell_type": "code",
   "execution_count": 31,
   "metadata": {},
   "outputs": [],
   "source": [
    "model.compile(optimizer='rmsprop',\n",
    "              loss='categorical_crossentropy',\n",
    "              metrics=['accuracy'])"
   ]
  },
  {
   "cell_type": "markdown",
   "metadata": {},
   "source": [
    "In the compiler, you'll be passing the optimizer, loss function, and metrics. Train the model for 20 epochs in mini-batches of 512 samples."
   ]
  },
  {
   "cell_type": "code",
   "execution_count": 32,
   "metadata": {},
   "outputs": [
    {
     "name": "stdout",
     "output_type": "stream",
     "text": [
      "Train on 7500 samples, validate on 1000 samples\n",
      "Epoch 1/20\n",
      "7500/7500 [==============================] - 1s 111us/step - loss: 1.4966 - acc: 0.4859 - val_loss: 1.1145 - val_acc: 0.6470\n",
      "Epoch 2/20\n",
      "7500/7500 [==============================] - 0s 62us/step - loss: 0.8602 - acc: 0.7467 - val_loss: 0.7897 - val_acc: 0.7410\n",
      "Epoch 3/20\n",
      "7500/7500 [==============================] - 1s 87us/step - loss: 0.6108 - acc: 0.8179 - val_loss: 0.6736 - val_acc: 0.7550\n",
      "Epoch 4/20\n",
      "7500/7500 [==============================] - 1s 68us/step - loss: 0.4744 - acc: 0.8572 - val_loss: 0.6356 - val_acc: 0.7620\n",
      "Epoch 5/20\n",
      "7500/7500 [==============================] - 1s 67us/step - loss: 0.3879 - acc: 0.8843 - val_loss: 0.6227 - val_acc: 0.7630\n",
      "Epoch 6/20\n",
      "7500/7500 [==============================] - 1s 72us/step - loss: 0.3248 - acc: 0.9024 - val_loss: 0.5886 - val_acc: 0.7810\n",
      "Epoch 7/20\n",
      "7500/7500 [==============================] - 0s 58us/step - loss: 0.2737 - acc: 0.9223 - val_loss: 0.6207 - val_acc: 0.7800\n",
      "Epoch 8/20\n",
      "7500/7500 [==============================] - 0s 66us/step - loss: 0.2310 - acc: 0.9365 - val_loss: 0.6352 - val_acc: 0.7760\n",
      "Epoch 9/20\n",
      "7500/7500 [==============================] - 0s 56us/step - loss: 0.1989 - acc: 0.9473 - val_loss: 0.6431 - val_acc: 0.7740\n",
      "Epoch 10/20\n",
      "7500/7500 [==============================] - 0s 66us/step - loss: 0.1662 - acc: 0.9593 - val_loss: 0.7203 - val_acc: 0.7640\n",
      "Epoch 11/20\n",
      "7500/7500 [==============================] - 0s 61us/step - loss: 0.1422 - acc: 0.9648 - val_loss: 0.7390 - val_acc: 0.7590\n",
      "Epoch 12/20\n",
      "7500/7500 [==============================] - 1s 69us/step - loss: 0.1200 - acc: 0.9719 - val_loss: 0.7333 - val_acc: 0.7630\n",
      "Epoch 13/20\n",
      "7500/7500 [==============================] - 0s 66us/step - loss: 0.1020 - acc: 0.9760 - val_loss: 0.8023 - val_acc: 0.7580\n",
      "Epoch 14/20\n",
      "7500/7500 [==============================] - 0s 60us/step - loss: 0.0844 - acc: 0.9813 - val_loss: 0.8611 - val_acc: 0.7510\n",
      "Epoch 15/20\n",
      "7500/7500 [==============================] - 0s 55us/step - loss: 0.0707 - acc: 0.9861 - val_loss: 0.9632 - val_acc: 0.7470\n",
      "Epoch 16/20\n",
      "7500/7500 [==============================] - 0s 56us/step - loss: 0.0614 - acc: 0.9867 - val_loss: 0.9502 - val_acc: 0.7570\n",
      "Epoch 17/20\n",
      "7500/7500 [==============================] - 0s 61us/step - loss: 0.0522 - acc: 0.9893 - val_loss: 0.9924 - val_acc: 0.7550\n",
      "Epoch 18/20\n",
      "7500/7500 [==============================] - 0s 55us/step - loss: 0.0397 - acc: 0.9935 - val_loss: 1.0958 - val_acc: 0.7430\n",
      "Epoch 19/20\n",
      "7500/7500 [==============================] - 0s 61us/step - loss: 0.0365 - acc: 0.9929 - val_loss: 1.1397 - val_acc: 0.7420\n",
      "Epoch 20/20\n",
      "7500/7500 [==============================] - 0s 55us/step - loss: 0.0311 - acc: 0.9943 - val_loss: 1.1833 - val_acc: 0.7420\n"
     ]
    }
   ],
   "source": [
    "history = model.fit(train_final,\n",
    "                    label_train_final,\n",
    "                    epochs=20,\n",
    "                    batch_size=200,\n",
    "                    validation_data=(val, label_val))"
   ]
  },
  {
   "cell_type": "markdown",
   "metadata": {},
   "source": [
    "The dictionary `history` contains four entries: one per metric that was being monitored during training and during validation."
   ]
  },
  {
   "cell_type": "code",
   "execution_count": 33,
   "metadata": {},
   "outputs": [
    {
     "data": {
      "text/plain": [
       "dict_keys(['val_loss', 'val_acc', 'loss', 'acc'])"
      ]
     },
     "execution_count": 33,
     "metadata": {},
     "output_type": "execute_result"
    }
   ],
   "source": [
    "history_dict = history.history\n",
    "history_dict.keys()"
   ]
  },
  {
   "cell_type": "markdown",
   "metadata": {},
   "source": [
    "### 1.5 Plot the results"
   ]
  },
  {
   "cell_type": "code",
   "execution_count": 34,
   "metadata": {},
   "outputs": [
    {
     "data": {
      "image/png": "[encoded data removed]",
      "text/plain": [
       "<matplotlib.figure.Figure at 0x1a18343c88>"
      ]
     },
     "metadata": {},
     "output_type": "display_data"
    }
   ],
   "source": [
    "plt.clf()\n",
    "\n",
    "import matplotlib.pyplot as plt\n",
    "history_dict = history.history\n",
    "loss_values = history_dict['loss']\n",
    "val_loss_values = history_dict['val_loss']\n",
    "\n",
    "epochs = range(1, len(loss_values) + 1)\n",
    "plt.plot(epochs, loss_values, 'gd', label='Training loss')\n",
    "plt.plot(epochs, val_loss_values, 'g', label='Validation loss')\n",
    "\n",
    "plt.title('Training & validation loss')\n",
    "plt.xlabel('Epochs')\n",
    "plt.ylabel('Loss')\n",
    "plt.legend()\n",
    "plt.show()"
   ]
  },
  {
   "cell_type": "code",
   "execution_count": 35,
   "metadata": {},
   "outputs": [
    {
     "data": {
      "image/png": "[encoded data removed]",
      "text/plain": [
       "<matplotlib.figure.Figure at 0x1a18343a20>"
      ]
     },
     "metadata": {},
     "output_type": "display_data"
    }
   ],
   "source": [
    "plt.clf()\n",
    "\n",
    "acc_values = history_dict['acc'] \n",
    "val_acc_values = history_dict['val_acc']\n",
    "\n",
    "plt.plot(epochs, acc_values, 'rd', label='Training acc')\n",
    "plt.plot(epochs, val_acc_values, 'r', label='Validation acc')\n",
    "plt.title('Training & validation accuracy')\n",
    "plt.xlabel('Epochs')\n",
    "plt.ylabel('Loss')\n",
    "plt.legend()\n",
    "plt.show()"
   ]
  },
  {
   "cell_type": "markdown",
   "metadata": {},
   "source": [
    "This is an example of what we warned against earlier: a model that performs better on the training data isn’t necessarily a model that will do better on data it has never seen before. What you’re seeing is overfitting: after the  third epoch, you’re overoptimizing on the training data, and you end up learning representations that are specific to the training data and don’t generalize to data outside of the training set."
   ]
  },
  {
   "cell_type": "markdown",
   "metadata": {},
   "source": [
    "### 1.6  retrain from scratch with fewer epochs"
   ]
  },
  {
   "cell_type": "code",
   "execution_count": 36,
   "metadata": {},
   "outputs": [
    {
     "name": "stdout",
     "output_type": "stream",
     "text": [
      "Train on 7500 samples, validate on 1000 samples\n",
      "Epoch 1/5\n",
      "7500/7500 [==============================] - ETA: 0s - loss: 1.5275 - acc: 0.456 - 1s 104us/step - loss: 1.4982 - acc: 0.4720 - val_loss: 1.1434 - val_acc: 0.6670\n",
      "Epoch 2/5\n",
      "7500/7500 [==============================] - 0s 61us/step - loss: 0.8658 - acc: 0.7468 - val_loss: 0.8956 - val_acc: 0.6900\n",
      "Epoch 3/5\n",
      "7500/7500 [==============================] - 0s 64us/step - loss: 0.6122 - acc: 0.8169 - val_loss: 0.6879 - val_acc: 0.7700\n",
      "Epoch 4/5\n",
      "7500/7500 [==============================] - 0s 57us/step - loss: 0.4751 - acc: 0.8567 - val_loss: 0.6484 - val_acc: 0.7630\n",
      "Epoch 5/5\n",
      "7500/7500 [==============================] - 0s 61us/step - loss: 0.3866 - acc: 0.8869 - val_loss: 0.6136 - val_acc: 0.7770\n",
      "1500/1500 [==============================] - 0s 92us/step\n"
     ]
    }
   ],
   "source": [
    "model = models.Sequential()\n",
    "model.add(layers.Dense(50, activation='relu', input_shape=(2000,))) #3 hidden layers\n",
    "model.add(layers.Dense(25, activation='relu'))\n",
    "model.add(layers.Dense(7, activation='softmax'))\n",
    "\n",
    "model.compile(optimizer='rmsprop',\n",
    "              loss='categorical_crossentropy',\n",
    "              metrics=['accuracy'])\n",
    "\n",
    "final_model = model.fit(train_final,\n",
    "                    label_train_final,\n",
    "                    epochs=5,\n",
    "                    batch_size=200,\n",
    "                    validation_data=(val, label_val))\n",
    "results = model.evaluate(test, label_test)"
   ]
  },
  {
   "cell_type": "markdown",
   "metadata": {},
   "source": [
    "Now, you can use the test set to make label predictions"
   ]
  },
  {
   "cell_type": "code",
   "execution_count": 37,
   "metadata": {},
   "outputs": [
    {
     "data": {
      "text/plain": [
       "array([[4.9022529e-03, 5.5785412e-03, 5.7676978e-02, ..., 4.9167958e-01,\n",
       "        1.6863033e-02, 4.1424167e-01],\n",
       "       [3.5300586e-02, 1.5125357e-02, 3.1098211e-02, ..., 3.4007378e-02,\n",
       "        8.9053076e-04, 6.2331703e-04],\n",
       "       [1.6666237e-02, 7.9861060e-03, 2.4733402e-02, ..., 1.4197305e-03,\n",
       "        9.3357837e-01, 8.1744976e-03],\n",
       "       ...,\n",
       "       [6.3016273e-02, 3.1299591e-02, 1.5205725e-02, ..., 1.0146146e-03,\n",
       "        7.9552400e-01, 2.0668246e-03],\n",
       "       [6.9460032e-07, 2.0208693e-06, 1.9833940e-05, ..., 1.7900025e-07,\n",
       "        9.9997568e-01, 9.5632413e-07],\n",
       "       [5.5344538e-03, 5.9047430e-03, 2.1395370e-02, ..., 7.6773167e-03,\n",
       "        9.4560939e-01, 9.3297317e-04]], dtype=float32)"
      ]
     },
     "execution_count": 37,
     "metadata": {},
     "output_type": "execute_result"
    }
   ],
   "source": [
    "model.predict(test)"
   ]
  },
  {
   "cell_type": "code",
   "execution_count": 38,
   "metadata": {},
   "outputs": [
    {
     "data": {
      "text/plain": [
       "[0.6002027292251587, 0.7826666671435039]"
      ]
     },
     "execution_count": 38,
     "metadata": {},
     "output_type": "execute_result"
    }
   ],
   "source": [
    "results"
   ]
  },
  {
   "cell_type": "markdown",
   "metadata": {},
   "source": [
    "# SOURCES"
   ]
  },
  {
   "cell_type": "markdown",
   "metadata": {},
   "source": [
    "https://github.com/susanli2016/Machine-Learning-with-Python/blob/master/Consumer_complaints.ipynb"
   ]
  },
  {
   "cell_type": "markdown",
   "metadata": {},
   "source": [
    "https://catalog.data.gov/dataset/consumer-complaint-database"
   ]
  },
  {
   "cell_type": "code",
   "execution_count": null,
   "metadata": {},
   "outputs": [],
   "source": []
  }
 ],
 "metadata": {
  "kernelspec": {
   "display_name": "Python 3",
   "language": "python",
   "name": "python3"
  },
  "language_info": {
   "codemirror_mode": {
    "name": "ipython",
    "version": 3
   },
   "file_extension": ".py",
   "mimetype": "text/x-python",
   "name": "python",
   "nbconvert_exporter": "python",
   "pygments_lexer": "ipython3",
   "version": "3.6.4"
  }
 },
 "nbformat": 4,
 "nbformat_minor": 2
}
