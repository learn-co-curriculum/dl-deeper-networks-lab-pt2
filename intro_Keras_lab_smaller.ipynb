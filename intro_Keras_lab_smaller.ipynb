{
 "cells": [
  {
   "cell_type": "markdown",
   "metadata": {},
   "source": [
    "# Introduction to Keras"
   ]
  },
  {
   "cell_type": "markdown",
   "metadata": {},
   "source": [
    "## 1. Classifying bank complaints"
   ]
  },
  {
   "cell_type": "markdown",
   "metadata": {},
   "source": [
    "### 1.1 Loading the data"
   ]
  },
  {
   "cell_type": "markdown",
   "metadata": {},
   "source": [
    "#### 1.1.1 Look at the data"
   ]
  },
  {
   "cell_type": "code",
   "execution_count": 1,
   "metadata": {},
   "outputs": [
    {
     "name": "stderr",
     "output_type": "stream",
     "text": [
      "/anaconda3/lib/python3.6/site-packages/h5py/__init__.py:36: FutureWarning: Conversion of the second argument of issubdtype from `float` to `np.floating` is deprecated. In future, it will be treated as `np.float64 == np.dtype(float).type`.\n",
      "  from ._conv import register_converters as _register_converters\n",
      "Using TensorFlow backend.\n"
     ]
    },
    {
     "data": {
      "text/html": [
       "<div>\n",
       "<style scoped>\n",
       "    .dataframe tbody tr th:only-of-type {\n",
       "        vertical-align: middle;\n",
       "    }\n",
       "\n",
       "    .dataframe tbody tr th {\n",
       "        vertical-align: top;\n",
       "    }\n",
       "\n",
       "    .dataframe thead th {\n",
       "        text-align: right;\n",
       "    }\n",
       "</style>\n",
       "<table border=\"1\" class=\"dataframe\">\n",
       "  <thead>\n",
       "    <tr style=\"text-align: right;\">\n",
       "      <th></th>\n",
       "      <th>Product</th>\n",
       "      <th>Consumer complaint narrative</th>\n",
       "    </tr>\n",
       "  </thead>\n",
       "  <tbody>\n",
       "    <tr>\n",
       "      <th>0</th>\n",
       "      <td>Student loan</td>\n",
       "      <td>In XX/XX/XXXX I filled out the Fedlaon applica...</td>\n",
       "    </tr>\n",
       "    <tr>\n",
       "      <th>1</th>\n",
       "      <td>Student loan</td>\n",
       "      <td>I am being contacted by a debt collector for p...</td>\n",
       "    </tr>\n",
       "    <tr>\n",
       "      <th>2</th>\n",
       "      <td>Student loan</td>\n",
       "      <td>I cosigned XXXX student loans at SallieMae for...</td>\n",
       "    </tr>\n",
       "    <tr>\n",
       "      <th>3</th>\n",
       "      <td>Student loan</td>\n",
       "      <td>Navient has sytematically and illegally failed...</td>\n",
       "    </tr>\n",
       "    <tr>\n",
       "      <th>4</th>\n",
       "      <td>Student loan</td>\n",
       "      <td>My wife became eligible for XXXX Loan Forgiven...</td>\n",
       "    </tr>\n",
       "  </tbody>\n",
       "</table>\n",
       "</div>"
      ],
      "text/plain": [
       "        Product                       Consumer complaint narrative\n",
       "0  Student loan  In XX/XX/XXXX I filled out the Fedlaon applica...\n",
       "1  Student loan  I am being contacted by a debt collector for p...\n",
       "2  Student loan  I cosigned XXXX student loans at SallieMae for...\n",
       "3  Student loan  Navient has sytematically and illegally failed...\n",
       "4  Student loan  My wife became eligible for XXXX Loan Forgiven..."
      ]
     },
     "execution_count": 1,
     "metadata": {},
     "output_type": "execute_result"
    }
   ],
   "source": [
    "import matplotlib.pyplot as plt\n",
    "import pandas as pd\n",
    "import numpy as np\n",
    "from sklearn.model_selection import train_test_split\n",
    "from keras.utils.np_utils import to_categorical\n",
    "from sklearn import preprocessing\n",
    "from keras.preprocessing.text import Tokenizer\n",
    "\n",
    "df = pd.read_csv('Bank_complaints.csv')\n",
    "df.head()"
   ]
  },
  {
   "cell_type": "code",
   "execution_count": 2,
   "metadata": {},
   "outputs": [],
   "source": [
    "df = df.sample(10000)"
   ]
  },
  {
   "cell_type": "code",
   "execution_count": 3,
   "metadata": {},
   "outputs": [],
   "source": [
    "df.index = range(10000)"
   ]
  },
  {
   "cell_type": "code",
   "execution_count": 4,
   "metadata": {},
   "outputs": [],
   "source": [
    "product = df[\"Product\"]"
   ]
  },
  {
   "cell_type": "markdown",
   "metadata": {},
   "source": [
    "There are 7 types of complaints"
   ]
  },
  {
   "cell_type": "code",
   "execution_count": 5,
   "metadata": {},
   "outputs": [
    {
     "data": {
      "text/plain": [
       "Student loan                   1891\n",
       "Credit card                    1634\n",
       "Consumer Loan                  1546\n",
       "Mortgage                       1377\n",
       "Bank account or service        1338\n",
       "Credit reporting               1174\n",
       "Checking or savings account    1040\n",
       "Name: Product, dtype: int64"
      ]
     },
     "execution_count": 5,
     "metadata": {},
     "output_type": "execute_result"
    }
   ],
   "source": [
    "product.value_counts()"
   ]
  },
  {
   "cell_type": "code",
   "execution_count": 6,
   "metadata": {},
   "outputs": [
    {
     "name": "stdout",
     "output_type": "stream",
     "text": [
      "<class 'pandas.core.frame.DataFrame'>\n",
      "RangeIndex: 10000 entries, 0 to 9999\n",
      "Data columns (total 2 columns):\n",
      "Product                         10000 non-null object\n",
      "Consumer complaint narrative    10000 non-null object\n",
      "dtypes: object(2)\n",
      "memory usage: 156.3+ KB\n"
     ]
    }
   ],
   "source": [
    "df.info()"
   ]
  },
  {
   "cell_type": "code",
   "execution_count": 7,
   "metadata": {},
   "outputs": [],
   "source": [
    "complaints = df[\"Consumer complaint narrative\"]"
   ]
  },
  {
   "cell_type": "markdown",
   "metadata": {},
   "source": [
    "### 1.1.2 One-hot encoding of the complaints"
   ]
  },
  {
   "cell_type": "markdown",
   "metadata": {},
   "source": [
    "Only keep 2,000 most common words and use one-hot encoding"
   ]
  },
  {
   "cell_type": "code",
   "execution_count": 8,
   "metadata": {},
   "outputs": [],
   "source": [
    "tokenizer = Tokenizer(num_words=2000)"
   ]
  },
  {
   "cell_type": "code",
   "execution_count": 9,
   "metadata": {},
   "outputs": [],
   "source": [
    "tokenizer.fit_on_texts(complaints)"
   ]
  },
  {
   "cell_type": "code",
   "execution_count": 10,
   "metadata": {},
   "outputs": [],
   "source": [
    "sequences = tokenizer.texts_to_sequences(complaints)"
   ]
  },
  {
   "cell_type": "code",
   "execution_count": 11,
   "metadata": {},
   "outputs": [
    {
     "name": "stdout",
     "output_type": "stream",
     "text": [
      "Found 21442 unique tokens.\n"
     ]
    }
   ],
   "source": [
    "one_hot_results= tokenizer.texts_to_matrix(complaints, mode='binary')\n",
    "\n",
    "word_index = tokenizer.word_index\n",
    "\n",
    "print('Found %s unique tokens.' % len(word_index))"
   ]
  },
  {
   "cell_type": "code",
   "execution_count": 12,
   "metadata": {},
   "outputs": [],
   "source": [
    "#word_index.items()"
   ]
  },
  {
   "cell_type": "code",
   "execution_count": 13,
   "metadata": {},
   "outputs": [
    {
     "data": {
      "text/plain": [
       "(10000, 2000)"
      ]
     },
     "execution_count": 13,
     "metadata": {},
     "output_type": "execute_result"
    }
   ],
   "source": [
    "np.shape(one_hot_results)"
   ]
  },
  {
   "cell_type": "markdown",
   "metadata": {},
   "source": [
    "Decode the review again, can be done as follows:"
   ]
  },
  {
   "cell_type": "markdown",
   "metadata": {},
   "source": [
    "word_index stores the mapping from the label number to the actual word."
   ]
  },
  {
   "cell_type": "code",
   "execution_count": 14,
   "metadata": {},
   "outputs": [],
   "source": [
    "reverse_index = dict([(value, key) for (key, value) in word_index.items()])\n",
    "decoded_review = ' '.join([reverse_index.get(i) for i in sequences[19]])"
   ]
  },
  {
   "cell_type": "code",
   "execution_count": 15,
   "metadata": {},
   "outputs": [
    {
     "data": {
      "text/plain": [
       "\"citi increased my interest rate in xxxx from 15 to 29 and never told me about it when i found out about it online 7 months later they when i asked for information and finally lied about whether i could close my account after initially and denying that my interest rate was a default rate they finally admitted it was but would not advise of the default when i reviewed every statement of mine since the rate increase i found absolutely no delinquency i told them i wanted to close my account citi said i would lose over xxxx miles on xxxx xxxx if i did i called xxxx the next day and the woman at xxxx informed be that citi was wrong and that they tell that ''\""
      ]
     },
     "execution_count": 15,
     "metadata": {},
     "output_type": "execute_result"
    }
   ],
   "source": [
    "decoded_review"
   ]
  },
  {
   "cell_type": "code",
   "execution_count": 16,
   "metadata": {},
   "outputs": [
    {
     "data": {
      "text/plain": [
       "'CITI surreptitiously increased my interest rate in XXXX from 15 % to 29 % and never told me about it. When I found out about it online 7 months later, they stalled when I asked for information and finally lied about whether I could close my account. After stalling initially and denying that my interest rate was a default rate, they finally admitted it was but would not advise of the default. When I reviewed every statement of mine since the rate increase, I found absolutely no delinquency. I told them I wanted to close my account. Citi said I would lose over XXXX miles on XXXX XXXX if I did. I called XXXX the next day, and the woman at XXXX informed be that Citi was wrong and \" that they tell everybody that. \\'\\' Extraordinarily infuriating.'"
      ]
     },
     "execution_count": 16,
     "metadata": {},
     "output_type": "execute_result"
    }
   ],
   "source": [
    "complaints[19]"
   ]
  },
  {
   "cell_type": "markdown",
   "metadata": {},
   "source": [
    "You can see that some words dropped, but hopefully we caught the ones that have the useful distincive characteristics!"
   ]
  },
  {
   "cell_type": "markdown",
   "metadata": {},
   "source": [
    "### 1.1.3 convert the products to numerical categories"
   ]
  },
  {
   "cell_type": "code",
   "execution_count": 17,
   "metadata": {},
   "outputs": [],
   "source": [
    "le = preprocessing.LabelEncoder()"
   ]
  },
  {
   "cell_type": "code",
   "execution_count": 18,
   "metadata": {},
   "outputs": [
    {
     "data": {
      "text/plain": [
       "LabelEncoder()"
      ]
     },
     "execution_count": 18,
     "metadata": {},
     "output_type": "execute_result"
    }
   ],
   "source": [
    "le.fit(product)"
   ]
  },
  {
   "cell_type": "code",
   "execution_count": 19,
   "metadata": {},
   "outputs": [
    {
     "data": {
      "text/plain": [
       "['Bank account or service',\n",
       " 'Checking or savings account',\n",
       " 'Consumer Loan',\n",
       " 'Credit card',\n",
       " 'Credit reporting',\n",
       " 'Mortgage',\n",
       " 'Student loan']"
      ]
     },
     "execution_count": 19,
     "metadata": {},
     "output_type": "execute_result"
    }
   ],
   "source": [
    "list(le.classes_)"
   ]
  },
  {
   "cell_type": "code",
   "execution_count": 20,
   "metadata": {},
   "outputs": [],
   "source": [
    "product_cat = le.transform(product) "
   ]
  },
  {
   "cell_type": "code",
   "execution_count": 21,
   "metadata": {},
   "outputs": [
    {
     "name": "stderr",
     "output_type": "stream",
     "text": [
      "/anaconda3/lib/python3.6/site-packages/sklearn/preprocessing/label.py:151: DeprecationWarning: The truth value of an empty array is ambiguous. Returning False, but in future this will result in an error. Use `array.size > 0` to check that an array is not empty.\n",
      "  if diff:\n"
     ]
    },
    {
     "data": {
      "text/plain": [
       "['Bank account or service',\n",
       " 'Checking or savings account',\n",
       " 'Credit card',\n",
       " 'Credit card',\n",
       " 'Bank account or service',\n",
       " 'Student loan',\n",
       " 'Credit reporting']"
      ]
     },
     "execution_count": 21,
     "metadata": {},
     "output_type": "execute_result"
    }
   ],
   "source": [
    "list(le.inverse_transform([0, 1, 3, 3, 0, 6, 4]))"
   ]
  },
  {
   "cell_type": "code",
   "execution_count": 22,
   "metadata": {},
   "outputs": [
    {
     "data": {
      "text/plain": [
       "array([2, 1, 6, ..., 6, 5, 5])"
      ]
     },
     "execution_count": 22,
     "metadata": {},
     "output_type": "execute_result"
    }
   ],
   "source": [
    "product_cat"
   ]
  },
  {
   "cell_type": "code",
   "execution_count": 23,
   "metadata": {},
   "outputs": [],
   "source": [
    "product_onehot = to_categorical(product_cat)"
   ]
  },
  {
   "cell_type": "code",
   "execution_count": 24,
   "metadata": {},
   "outputs": [
    {
     "data": {
      "text/plain": [
       "(10000, 7)"
      ]
     },
     "execution_count": 24,
     "metadata": {},
     "output_type": "execute_result"
    }
   ],
   "source": [
    "np.shape(product_onehot)"
   ]
  },
  {
   "cell_type": "markdown",
   "metadata": {},
   "source": [
    "### 1.1.4 Train - test split"
   ]
  },
  {
   "cell_type": "code",
   "execution_count": 29,
   "metadata": {},
   "outputs": [],
   "source": [
    "import random\n",
    "random.seed(123)\n",
    "test_index = random.sample(range(1,10000), 1500)"
   ]
  },
  {
   "cell_type": "markdown",
   "metadata": {},
   "source": [
    "Create a test and a training set"
   ]
  },
  {
   "cell_type": "code",
   "execution_count": 30,
   "metadata": {},
   "outputs": [],
   "source": [
    "test = one_hot_results[test_index]\n",
    "train = np.delete(one_hot_results, test_index, 0)"
   ]
  },
  {
   "cell_type": "code",
   "execution_count": 31,
   "metadata": {},
   "outputs": [],
   "source": [
    "label_test = product_onehot[test_index]\n",
    "label_train = np.delete(product_onehot, test_index, 0)"
   ]
  },
  {
   "cell_type": "code",
   "execution_count": 32,
   "metadata": {},
   "outputs": [
    {
     "name": "stdout",
     "output_type": "stream",
     "text": [
      "(1500, 7)\n",
      "(8500, 7)\n",
      "(1500, 2000)\n",
      "(8500, 2000)\n"
     ]
    }
   ],
   "source": [
    "print(np.shape(label_test))\n",
    "print(np.shape(label_train))\n",
    "print(np.shape(test))\n",
    "print(np.shape(train))"
   ]
  },
  {
   "cell_type": "markdown",
   "metadata": {},
   "source": [
    "# 1.2 Building the network"
   ]
  },
  {
   "cell_type": "markdown",
   "metadata": {},
   "source": [
    "Let's build a fully connected (Dense) layer network with relu activations in Keras. You can do this using: `Dense(16, activation='relu')`."
   ]
  },
  {
   "cell_type": "markdown",
   "metadata": {},
   "source": [
    "In this examples, use 2 hidden with 50 units in the first layer and 25 in the second, both with a `relu` activation function. Because we are dealing with a multiclass problem (classifying the complaints into 7 ), we use a use a softmax classifyer in order to output 7 class probabilities per case."
   ]
  },
  {
   "cell_type": "code",
   "execution_count": 34,
   "metadata": {},
   "outputs": [],
   "source": [
    "from keras import models\n",
    "from keras import layers\n",
    "model = models.Sequential()\n",
    "model.add(layers.Dense(50, activation='relu', input_shape=(2000,))) #2 hidden layers\n",
    "model.add(layers.Dense(25, activation='relu'))\n",
    "model.add(layers.Dense(7, activation='softmax'))"
   ]
  },
  {
   "cell_type": "markdown",
   "metadata": {},
   "source": [
    "### 1.3 Compiling the model and look at the results"
   ]
  },
  {
   "cell_type": "code",
   "execution_count": 35,
   "metadata": {},
   "outputs": [],
   "source": [
    "model.compile(optimizer='SGD',\n",
    "              loss='categorical_crossentropy',\n",
    "              metrics=['accuracy'])"
   ]
  },
  {
   "cell_type": "markdown",
   "metadata": {},
   "source": [
    "In the compiler, you'll be passing the optimizer, loss function, and metrics. Train the model for 20 epochs in mini-batches of 512 samples."
   ]
  },
  {
   "cell_type": "code",
   "execution_count": 57,
   "metadata": {},
   "outputs": [
    {
     "name": "stdout",
     "output_type": "stream",
     "text": [
      "Epoch 1/70\n",
      "8500/8500 [==============================] - 0s 49us/step - loss: 0.3917 - acc: 0.8699\n",
      "Epoch 2/70\n",
      "8500/8500 [==============================] - 0s 43us/step - loss: 0.3891 - acc: 0.8701\n",
      "Epoch 3/70\n",
      "8500/8500 [==============================] - 0s 46us/step - loss: 0.3868 - acc: 0.8701\n",
      "Epoch 4/70\n",
      "8500/8500 [==============================] - 0s 45us/step - loss: 0.3840 - acc: 0.8739\n",
      "Epoch 5/70\n",
      "8500/8500 [==============================] - 0s 50us/step - loss: 0.3816 - acc: 0.8746\n",
      "Epoch 6/70\n",
      "8500/8500 [==============================] - 0s 52us/step - loss: 0.3790 - acc: 0.8760\n",
      "Epoch 7/70\n",
      "8500/8500 [==============================] - 0s 58us/step - loss: 0.3765 - acc: 0.8754\n",
      "Epoch 8/70\n",
      "8500/8500 [==============================] - 1s 62us/step - loss: 0.3740 - acc: 0.8772\n",
      "Epoch 9/70\n",
      "8500/8500 [==============================] - 0s 58us/step - loss: 0.3710 - acc: 0.8788\n",
      "Epoch 10/70\n",
      "8500/8500 [==============================] - 1s 62us/step - loss: 0.3690 - acc: 0.8796\n",
      "Epoch 11/70\n",
      "8500/8500 [==============================] - 1s 59us/step - loss: 0.3662 - acc: 0.8806\n",
      "Epoch 12/70\n",
      "8500/8500 [==============================] - 0s 55us/step - loss: 0.3640 - acc: 0.8802\n",
      "Epoch 13/70\n",
      "8500/8500 [==============================] - 0s 56us/step - loss: 0.3614 - acc: 0.8829\n",
      "Epoch 14/70\n",
      "8500/8500 [==============================] - 0s 53us/step - loss: 0.3594 - acc: 0.8841\n",
      "Epoch 15/70\n",
      "8500/8500 [==============================] - ETA: 0s - loss: 0.3566 - acc: 0.884 - 0s 52us/step - loss: 0.3567 - acc: 0.8851\n",
      "Epoch 16/70\n",
      "8500/8500 [==============================] - 0s 48us/step - loss: 0.3546 - acc: 0.8847\n",
      "Epoch 17/70\n",
      "8500/8500 [==============================] - 0s 50us/step - loss: 0.3521 - acc: 0.8848\n",
      "Epoch 18/70\n",
      "8500/8500 [==============================] - ETA: 0s - loss: 0.3515 - acc: 0.886 - 0s 44us/step - loss: 0.3496 - acc: 0.8865\n",
      "Epoch 19/70\n",
      "8500/8500 [==============================] - 0s 49us/step - loss: 0.3473 - acc: 0.8878\n",
      "Epoch 20/70\n",
      "8500/8500 [==============================] - 0s 49us/step - loss: 0.3454 - acc: 0.8887\n",
      "Epoch 21/70\n",
      "8500/8500 [==============================] - 0s 46us/step - loss: 0.3425 - acc: 0.8885\n",
      "Epoch 22/70\n",
      "8500/8500 [==============================] - 0s 44us/step - loss: 0.3409 - acc: 0.8900\n",
      "Epoch 23/70\n",
      "8500/8500 [==============================] - 0s 45us/step - loss: 0.3383 - acc: 0.8906\n",
      "Epoch 24/70\n",
      "8500/8500 [==============================] - 0s 44us/step - loss: 0.3367 - acc: 0.8899\n",
      "Epoch 25/70\n",
      "8500/8500 [==============================] - 0s 42us/step - loss: 0.3338 - acc: 0.8918\n",
      "Epoch 26/70\n",
      "8500/8500 [==============================] - 0s 45us/step - loss: 0.3318 - acc: 0.8940\n",
      "Epoch 27/70\n",
      "8500/8500 [==============================] - 0s 47us/step - loss: 0.3298 - acc: 0.8927\n",
      "Epoch 28/70\n",
      "8500/8500 [==============================] - 0s 46us/step - loss: 0.3278 - acc: 0.8934\n",
      "Epoch 29/70\n",
      "8500/8500 [==============================] - 0s 46us/step - loss: 0.3257 - acc: 0.8946\n",
      "Epoch 30/70\n",
      "8500/8500 [==============================] - 0s 50us/step - loss: 0.3233 - acc: 0.8962\n",
      "Epoch 31/70\n",
      "8500/8500 [==============================] - 0s 47us/step - loss: 0.3216 - acc: 0.8975\n",
      "Epoch 32/70\n",
      "8500/8500 [==============================] - 0s 49us/step - loss: 0.3195 - acc: 0.8978\n",
      "Epoch 33/70\n",
      "8500/8500 [==============================] - 0s 45us/step - loss: 0.3174 - acc: 0.8976\n",
      "Epoch 34/70\n",
      "8500/8500 [==============================] - 0s 45us/step - loss: 0.3153 - acc: 0.8992\n",
      "Epoch 35/70\n",
      "8500/8500 [==============================] - 0s 46us/step - loss: 0.3136 - acc: 0.9004\n",
      "Epoch 36/70\n",
      "8500/8500 [==============================] - 0s 47us/step - loss: 0.3110 - acc: 0.9016\n",
      "Epoch 37/70\n",
      "8500/8500 [==============================] - 0s 46us/step - loss: 0.3094 - acc: 0.9022\n",
      "Epoch 38/70\n",
      "8500/8500 [==============================] - 0s 46us/step - loss: 0.3074 - acc: 0.9020\n",
      "Epoch 39/70\n",
      "8500/8500 [==============================] - 0s 49us/step - loss: 0.3052 - acc: 0.9025\n",
      "Epoch 40/70\n",
      "8500/8500 [==============================] - 0s 45us/step - loss: 0.3034 - acc: 0.9041\n",
      "Epoch 41/70\n",
      "8500/8500 [==============================] - 0s 53us/step - loss: 0.3018 - acc: 0.9049\n",
      "Epoch 42/70\n",
      "8500/8500 [==============================] - 0s 49us/step - loss: 0.2998 - acc: 0.9066\n",
      "Epoch 43/70\n",
      "8500/8500 [==============================] - 0s 55us/step - loss: 0.2980 - acc: 0.9061\n",
      "Epoch 44/70\n",
      "8500/8500 [==============================] - 0s 54us/step - loss: 0.2957 - acc: 0.9047\n",
      "Epoch 45/70\n",
      "8500/8500 [==============================] - 0s 53us/step - loss: 0.2940 - acc: 0.9075\n",
      "Epoch 46/70\n",
      "8500/8500 [==============================] - 0s 56us/step - loss: 0.2925 - acc: 0.9075\n",
      "Epoch 47/70\n",
      "8500/8500 [==============================] - 0s 54us/step - loss: 0.2905 - acc: 0.9080\n",
      "Epoch 48/70\n",
      "8500/8500 [==============================] - 0s 52us/step - loss: 0.2889 - acc: 0.9085\n",
      "Epoch 49/70\n",
      "8500/8500 [==============================] - 0s 55us/step - loss: 0.2871 - acc: 0.9101\n",
      "Epoch 50/70\n",
      "8500/8500 [==============================] - 0s 48us/step - loss: 0.2853 - acc: 0.9119\n",
      "Epoch 51/70\n",
      "8500/8500 [==============================] - 0s 49us/step - loss: 0.2832 - acc: 0.9114\n",
      "Epoch 52/70\n",
      "8500/8500 [==============================] - 0s 46us/step - loss: 0.2817 - acc: 0.9136\n",
      "Epoch 53/70\n",
      "8500/8500 [==============================] - 0s 43us/step - loss: 0.2797 - acc: 0.9138\n",
      "Epoch 54/70\n",
      "8500/8500 [==============================] - 0s 45us/step - loss: 0.2783 - acc: 0.9135\n",
      "Epoch 55/70\n",
      "8500/8500 [==============================] - 0s 47us/step - loss: 0.2764 - acc: 0.9138\n",
      "Epoch 56/70\n",
      "8500/8500 [==============================] - 0s 44us/step - loss: 0.2744 - acc: 0.9160\n",
      "Epoch 57/70\n",
      "8500/8500 [==============================] - 0s 49us/step - loss: 0.2736 - acc: 0.9154\n",
      "Epoch 58/70\n",
      "8500/8500 [==============================] - 0s 43us/step - loss: 0.2717 - acc: 0.9173\n",
      "Epoch 59/70\n",
      "8500/8500 [==============================] - 0s 49us/step - loss: 0.2696 - acc: 0.9184\n",
      "Epoch 60/70\n",
      "8500/8500 [==============================] - 0s 52us/step - loss: 0.2683 - acc: 0.9182\n",
      "Epoch 61/70\n",
      "8500/8500 [==============================] - 0s 54us/step - loss: 0.2667 - acc: 0.9184\n",
      "Epoch 62/70\n",
      "8500/8500 [==============================] - 0s 50us/step - loss: 0.2649 - acc: 0.9200\n",
      "Epoch 63/70\n",
      "8500/8500 [==============================] - 0s 48us/step - loss: 0.2630 - acc: 0.9207\n",
      "Epoch 64/70\n",
      "8500/8500 [==============================] - 0s 57us/step - loss: 0.2619 - acc: 0.9222\n",
      "Epoch 65/70\n",
      "8500/8500 [==============================] - 0s 56us/step - loss: 0.2603 - acc: 0.9225\n",
      "Epoch 66/70\n",
      "8500/8500 [==============================] - 0s 55us/step - loss: 0.2584 - acc: 0.9232\n",
      "Epoch 67/70\n",
      "8500/8500 [==============================] - 0s 50us/step - loss: 0.2568 - acc: 0.9241\n",
      "Epoch 68/70\n",
      "8500/8500 [==============================] - 0s 49us/step - loss: 0.2554 - acc: 0.9236\n",
      "Epoch 69/70\n",
      "8500/8500 [==============================] - 0s 46us/step - loss: 0.2537 - acc: 0.9252\n",
      "Epoch 70/70\n",
      "8500/8500 [==============================] - 0s 48us/step - loss: 0.2523 - acc: 0.9255\n"
     ]
    }
   ],
   "source": [
    "history = model.fit(train,\n",
    "                    label_train,\n",
    "                    epochs=70,\n",
    "                    batch_size=256)"
   ]
  },
  {
   "cell_type": "markdown",
   "metadata": {},
   "source": [
    "The dictionary `history` contains four entries: one per metric that was being monitored during training and during validation."
   ]
  },
  {
   "cell_type": "code",
   "execution_count": 58,
   "metadata": {},
   "outputs": [
    {
     "data": {
      "text/plain": [
       "dict_keys(['loss', 'acc'])"
      ]
     },
     "execution_count": 58,
     "metadata": {},
     "output_type": "execute_result"
    }
   ],
   "source": [
    "history_dict = history.history\n",
    "history_dict.keys()"
   ]
  },
  {
   "cell_type": "markdown",
   "metadata": {},
   "source": [
    "### 1.5 Plot the results"
   ]
  },
  {
   "cell_type": "code",
   "execution_count": 59,
   "metadata": {},
   "outputs": [
    {
     "data": {
      "image/png": "[encoded data removed]",
      "text/plain": [
       "<matplotlib.figure.Figure at 0x1a2cec78d0>"
      ]
     },
     "metadata": {},
     "output_type": "display_data"
    }
   ],
   "source": [
    "plt.clf()\n",
    "\n",
    "import matplotlib.pyplot as plt\n",
    "history_dict = history.history\n",
    "loss_values = history_dict['loss']\n",
    "\n",
    "epochs = range(1, len(loss_values) + 1)\n",
    "plt.plot(epochs, loss_values, 'g', label='Training loss')\n",
    "\n",
    "plt.title('Training loss')\n",
    "plt.xlabel('Epochs')\n",
    "plt.ylabel('Loss')\n",
    "plt.legend()\n",
    "plt.show()"
   ]
  },
  {
   "cell_type": "code",
   "execution_count": 60,
   "metadata": {},
   "outputs": [
    {
     "data": {
      "image/png": "[encoded data removed]",
      "text/plain": [
       "<matplotlib.figure.Figure at 0x1a2d261b70>"
      ]
     },
     "metadata": {},
     "output_type": "display_data"
    }
   ],
   "source": [
    "plt.clf()\n",
    "\n",
    "acc_values = history_dict['acc'] \n",
    "\n",
    "plt.plot(epochs, acc_values, 'r', label='Training acc')\n",
    "plt.title('Training accuracy')\n",
    "plt.xlabel('Epochs')\n",
    "plt.ylabel('Loss')\n",
    "plt.legend()\n",
    "plt.show()"
   ]
  },
  {
   "cell_type": "markdown",
   "metadata": {},
   "source": [
    "It seems like we could just keep on going and accuracy would go up!"
   ]
  },
  {
   "cell_type": "markdown",
   "metadata": {},
   "source": [
    "This is an example of what we warned against earlier: a model that performs better on the training data isn’t necessarily a model that will do better on data it has never seen before. What you’re seeing is overfitting: after the  third epoch, you’re overoptimizing on the training data, and you end up learning representations that are specific to the training data and don’t generalize to data outside of the training set."
   ]
  },
  {
   "cell_type": "markdown",
   "metadata": {},
   "source": [
    "### 1.6 Make predictions"
   ]
  },
  {
   "cell_type": "code",
   "execution_count": 61,
   "metadata": {},
   "outputs": [
    {
     "data": {
      "text/plain": [
       "array([[9.9835312e-04, 2.3642726e-06, 2.9615771e-02, ..., 4.5119110e-02,\n",
       "        9.2355657e-01, 5.4153774e-05],\n",
       "       [3.7688136e-04, 3.5481538e-05, 3.8120907e-02, ..., 1.8955946e-03,\n",
       "        2.8981101e-03, 9.3801749e-01],\n",
       "       [9.3856430e-01, 5.7524633e-02, 9.5641335e-05, ..., 8.0371807e-05,\n",
       "        3.4486435e-03, 7.8324192e-06],\n",
       "       ...,\n",
       "       [8.7086810e-04, 7.3219737e-04, 2.3825239e-02, ..., 2.3967910e-01,\n",
       "        7.2297448e-01, 6.2916107e-03],\n",
       "       [7.6923378e-02, 7.5645950e-03, 8.2891276e-03, ..., 2.7100258e-03,\n",
       "        4.7434196e-03, 3.9393110e-03],\n",
       "       [2.9717387e-12, 2.8353500e-12, 7.1020473e-10, ..., 2.7622847e-11,\n",
       "        1.0000000e+00, 5.8407257e-10]], dtype=float32)"
      ]
     },
     "execution_count": 61,
     "metadata": {},
     "output_type": "execute_result"
    }
   ],
   "source": [
    "model.predict(test)"
   ]
  },
  {
   "cell_type": "code",
   "execution_count": 62,
   "metadata": {},
   "outputs": [
    {
     "name": "stdout",
     "output_type": "stream",
     "text": [
      "8500/8500 [==============================] - 0s 52us/step\n"
     ]
    }
   ],
   "source": [
    "results_train = model.evaluate(train, label_train)"
   ]
  },
  {
   "cell_type": "code",
   "execution_count": 63,
   "metadata": {},
   "outputs": [
    {
     "name": "stdout",
     "output_type": "stream",
     "text": [
      "1500/1500 [==============================] - 0s 62us/step\n"
     ]
    }
   ],
   "source": [
    "results_test = model.evaluate(test, label_test)"
   ]
  },
  {
   "cell_type": "code",
   "execution_count": 64,
   "metadata": {},
   "outputs": [
    {
     "data": {
      "text/plain": [
       "[0.250485277372248, 0.9262352940615486]"
      ]
     },
     "execution_count": 64,
     "metadata": {},
     "output_type": "execute_result"
    }
   ],
   "source": [
    "results_train"
   ]
  },
  {
   "cell_type": "code",
   "execution_count": 65,
   "metadata": {},
   "outputs": [
    {
     "data": {
      "text/plain": [
       "[0.6679157531261444, 0.7680000001589458]"
      ]
     },
     "execution_count": 65,
     "metadata": {},
     "output_type": "execute_result"
    }
   ],
   "source": [
    "results_test"
   ]
  },
  {
   "cell_type": "markdown",
   "metadata": {},
   "source": [
    "We can see that the training set results are really good (a 92.6% classification accuracy!), but the test set results lag behind. In the next lab. We'll talk a little more about this in the next lecture, and will discuss how we can get better test set results as well!"
   ]
  },
  {
   "cell_type": "markdown",
   "metadata": {},
   "source": [
    "# SOURCES"
   ]
  },
  {
   "cell_type": "markdown",
   "metadata": {},
   "source": [
    "https://github.com/susanli2016/Machine-Learning-with-Python/blob/master/Consumer_complaints.ipynb"
   ]
  },
  {
   "cell_type": "markdown",
   "metadata": {},
   "source": [
    "https://catalog.data.gov/dataset/consumer-complaint-database"
   ]
  }
 ],
 "metadata": {
  "kernelspec": {
   "display_name": "Python 3",
   "language": "python",
   "name": "python3"
  },
  "language_info": {
   "codemirror_mode": {
    "name": "ipython",
    "version": 3
   },
   "file_extension": ".py",
   "mimetype": "text/x-python",
   "name": "python",
   "nbconvert_exporter": "python",
   "pygments_lexer": "ipython3",
   "version": "3.6.4"
  }
 },
 "nbformat": 4,
 "nbformat_minor": 2
}
